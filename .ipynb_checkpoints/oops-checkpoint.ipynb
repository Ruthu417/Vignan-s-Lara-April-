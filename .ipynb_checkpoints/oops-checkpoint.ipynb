{
 "cells": [
  {
   "cell_type": "markdown",
   "metadata": {},
   "source": [
    "### Oops concepts in Python\n",
    "- OOP is all about creating an object\n",
    "- An object is the instance of class we can say and it is a group of interrelated variables and functions\n",
    "- variables are the propertires of the class\n",
    "- functions are behaviour of the class\n",
    "- EX: Car is the object/real time entity\n",
    "- features/properties:color,model,price,brand etc where as\n",
    "- function/work:accelerations,slowing down,gear change etc.."
   ]
  },
  {
   "cell_type": "markdown",
   "metadata": {},
   "source": [
    "#### POP Vs OOP\n",
    "- POP(Procedure Oriented Programming is suitable for only simple tasks)\n",
    "- Complexities increases with the increase of size of the program and we cannot debug the errors easily\n",
    "- seems to be web of functions and need access to all data which has less security\n",
    "\n",
    "- OOP provides less complex structure and it allows us to reuse functions in the form of inheritance\n",
    "- while accessig the data,OOP provides Data Encapsulation which hides the data"
   ]
  },
  {
   "cell_type": "markdown",
   "metadata": {},
   "source": [
    "#### OOPS Conceps\n",
    "- Class\n",
    "- Object\n",
    "- Method\n",
    "- Inheritance\n",
    "- Encapsulation\n",
    "- Polymorphism and \n",
    "- Data Abstraction"
   ]
  },
  {
   "cell_type": "markdown",
   "metadata": {},
   "source": [
    "#### Class\n",
    "- In simpler words, a class is the collection of objects\n",
    "- Classes are the user defined data structures\n",
    "- Syntax:\n",
    "    - class class_name:\n",
    "        - body\n",
    "- memory is allocated to the class, after initialzing the object only\n",
    "- when the empty class is called,it's memory location/address is printed\n",
    "- __init__() is the class constructor to assign the data to the members of the class,when the object is created\n",
    "- the properties of the class must be inside this __init__() constructor\n",
    "- __init__(self),we will assign remaining parameters to this self parameters\n",
    "- **Class methods**:functiions defined in class, refered to their behavior"
   ]
  },
  {
   "cell_type": "code",
   "execution_count": 7,
   "metadata": {},
   "outputs": [
    {
     "name": "stdout",
     "output_type": "stream",
     "text": [
      "The Honda City runs at the maximum speed of 150km/hr\n",
      "\n",
      "The Skoda Octavia runs at the maximum speed of 210km/hr\n"
     ]
    }
   ],
   "source": [
    "# Creating Class Car along with its properties\n",
    "class Car:\n",
    "    def __init__(self,name,mileage):\n",
    "        self.name=name\n",
    "        self.mileage=mileage\n",
    "    \n",
    "    def max_speed(self,speed):\n",
    "        self.speed=speed\n",
    "        return f\"The {self.name} runs at the maximum speed of {speed}km/hr\"\n",
    "    \n",
    "Honda = Car(\"Honda City\",21.4)\n",
    "print(Honda.max_speed(150))\n",
    "print()\n",
    "Skoda = Car(\"Skoda Octavia\",13)\n",
    "print(Skoda.max_speed(210))"
   ]
  },
  {
   "cell_type": "markdown",
   "metadata": {},
   "source": [
    "#### Inheritance\n",
    "- The procedure of inherits the methods and attributes of one class into the other class\n",
    "- from Parent classs to Child class\n",
    "- **syntax:**\n",
    "    - class parent_class:\n",
    "        - body\n",
    "    - calss child_class(parent_class):\n",
    "        - body"
   ]
  },
  {
   "cell_type": "code",
   "execution_count": null,
   "metadata": {},
   "outputs": [],
   "source": []
  },
  {
   "cell_type": "code",
   "execution_count": 14,
   "metadata": {
    "collapsed": true
   },
   "outputs": [
    {
     "name": "stdout",
     "output_type": "stream",
     "text": [
      "This is the description of Audi Car\n",
      "The Audi A8 L runs at the maximum mileage of 14km/lt\n",
      "The BMW runs at the maximum mileage of 39.53km/lt\n"
     ]
    },
    {
     "ename": "AttributeError",
     "evalue": "'BMW' object has no attribute 'audi_des'",
     "output_type": "error",
     "traceback": [
      "\u001b[1;31m---------------------------------------------------------------------------\u001b[0m",
      "\u001b[1;31mAttributeError\u001b[0m                            Traceback (most recent call last)",
      "\u001b[1;32m<ipython-input-14-e7fdf07485f3>\u001b[0m in \u001b[0;36m<module>\u001b[1;34m\u001b[0m\n\u001b[0;32m     23\u001b[0m \u001b[0mb\u001b[0m\u001b[1;33m=\u001b[0m\u001b[0mBMW\u001b[0m\u001b[1;33m(\u001b[0m\u001b[1;34m\"BMW\"\u001b[0m\u001b[1;33m,\u001b[0m\u001b[1;36m39.53\u001b[0m\u001b[1;33m)\u001b[0m\u001b[1;33m\u001b[0m\u001b[1;33m\u001b[0m\u001b[0m\n\u001b[0;32m     24\u001b[0m \u001b[0mprint\u001b[0m\u001b[1;33m(\u001b[0m\u001b[0mb\u001b[0m\u001b[1;33m.\u001b[0m\u001b[0mdescription\u001b[0m\u001b[1;33m(\u001b[0m\u001b[1;33m)\u001b[0m\u001b[1;33m)\u001b[0m\u001b[1;33m\u001b[0m\u001b[1;33m\u001b[0m\u001b[0m\n\u001b[1;32m---> 25\u001b[1;33m \u001b[0mprint\u001b[0m\u001b[1;33m(\u001b[0m\u001b[0mb\u001b[0m\u001b[1;33m.\u001b[0m\u001b[0maudi_des\u001b[0m\u001b[1;33m(\u001b[0m\u001b[1;33m)\u001b[0m\u001b[1;33m)\u001b[0m\u001b[1;33m\u001b[0m\u001b[1;33m\u001b[0m\u001b[0m\n\u001b[0m",
      "\u001b[1;31mAttributeError\u001b[0m: 'BMW' object has no attribute 'audi_des'"
     ]
    }
   ],
   "source": [
    "class Car:\n",
    "    def __init__(self,name,mileage):\n",
    "        self.name=name\n",
    "        self.mileage=mileage\n",
    "    \n",
    "    def max_speed(self,speed):\n",
    "        self.speed=speed\n",
    "        \n",
    "    def description(self):\n",
    "        return f\"The {self.name} runs at the maximum mileage of {self.mileage}km/lt\"\n",
    "    \n",
    "class BMW(Car):\n",
    "    pass\n",
    "\n",
    "class Audi(Car):\n",
    "    def audi_desc(self):\n",
    "        print(\"This is the description of Audi Car\")\n",
    "        \n",
    "        \n",
    "a=Audi(\"Audi A8 L\",14)\n",
    "a.audi_desc()\n",
    "print(a.description())\n",
    "b=BMW(\"BMW\",39.53)\n",
    "print(b.description())\n",
    "print(b.audi_des())"
   ]
  },
  {
   "cell_type": "markdown",
   "metadata": {},
   "source": [
    "### Encapsulation\n",
    "- It hides the data from outsiders of class\n",
    "- we can declare methods or attributes by using (_) underscore symbol\n",
    "    - Ex: self._variable,self._method() meaning is that\n",
    "- These(methods&attributes) cannot be accessible by outsiders of class,can be accessible by sub classes \n",
    "        "
   ]
  },
  {
   "cell_type": "code",
   "execution_count": 21,
   "metadata": {},
   "outputs": [
    {
     "data": {
      "text/plain": [
       "'The BMW car gives the 40.53 of km/l'"
      ]
     },
     "execution_count": 21,
     "metadata": {},
     "output_type": "execute_result"
    }
   ],
   "source": [
    "class Car:\n",
    "    def __init__(self,mileage,name):\n",
    "        self._name=name # protected var\n",
    "        self.mileage=mileage\n",
    "        \n",
    "    def description(self):\n",
    "        return f\"The {self._name} car gives the {self.mileage} of km/l\"\n",
    "    \n",
    "c=Car(40.53,\"BMW\")\n",
    "c.description() # accessing using  class methods\n"
   ]
  },
  {
   "cell_type": "code",
   "execution_count": 22,
   "metadata": {},
   "outputs": [
    {
     "name": "stdout",
     "output_type": "stream",
     "text": [
      "Audi\n",
      "45\n"
     ]
    }
   ],
   "source": [
    "b=Car(45,\"Audi\")\n",
    "print(b._name)\n",
    "print(b.mileage) # accessing the variable directly using obj\n"
   ]
  },
  {
   "cell_type": "code",
   "execution_count": 25,
   "metadata": {},
   "outputs": [
    {
     "name": "stdout",
     "output_type": "stream",
     "text": [
      "40.53\n"
     ]
    },
    {
     "ename": "AttributeError",
     "evalue": "'Car' object has no attribute '__name'",
     "output_type": "error",
     "traceback": [
      "\u001b[1;31m---------------------------------------------------------------------------\u001b[0m",
      "\u001b[1;31mAttributeError\u001b[0m                            Traceback (most recent call last)",
      "\u001b[1;32m<ipython-input-25-330f0d67ed99>\u001b[0m in \u001b[0;36m<module>\u001b[1;34m\u001b[0m\n\u001b[0;32m      9\u001b[0m \u001b[0mc\u001b[0m\u001b[1;33m=\u001b[0m\u001b[0mCar\u001b[0m\u001b[1;33m(\u001b[0m\u001b[1;36m40.53\u001b[0m\u001b[1;33m,\u001b[0m\u001b[1;34m\"BMW\"\u001b[0m\u001b[1;33m)\u001b[0m\u001b[1;33m\u001b[0m\u001b[1;33m\u001b[0m\u001b[0m\n\u001b[0;32m     10\u001b[0m \u001b[0mprint\u001b[0m\u001b[1;33m(\u001b[0m\u001b[0mc\u001b[0m\u001b[1;33m.\u001b[0m\u001b[0mmileage\u001b[0m\u001b[1;33m)\u001b[0m\u001b[1;33m\u001b[0m\u001b[1;33m\u001b[0m\u001b[0m\n\u001b[1;32m---> 11\u001b[1;33m \u001b[0mprint\u001b[0m\u001b[1;33m(\u001b[0m\u001b[0mc\u001b[0m\u001b[1;33m.\u001b[0m\u001b[0m__name\u001b[0m\u001b[1;33m(\u001b[0m\u001b[1;33m)\u001b[0m\u001b[1;33m)\u001b[0m\u001b[1;33m\u001b[0m\u001b[1;33m\u001b[0m\u001b[0m\n\u001b[0m\u001b[0;32m     12\u001b[0m \u001b[1;33m\u001b[0m\u001b[0m\n",
      "\u001b[1;31mAttributeError\u001b[0m: 'Car' object has no attribute '__name'"
     ]
    }
   ],
   "source": [
    "class Car:\n",
    "    def __init__(self,mileage,name):\n",
    "        self.__name=name # protected var\n",
    "        self.mileage=mileage\n",
    "        \n",
    "    def description(self):\n",
    "        return f\"The {self._name} car gives the {self.mileage} of km/l\"\n",
    "    \n",
    "c=Car(40.53,\"BMW\")\n",
    "print(c.mileage)\n",
    "print(c.__name())\n",
    "\n"
   ]
  },
  {
   "cell_type": "markdown",
   "metadata": {},
   "source": [
    "#### Polymorphism\n",
    "- A Greek word, where poly-many and morph-forms,having \n",
    "- Polymorphism means many forms\n",
    "- but in OOPS,we say that functions having same name carries differenent functionalities"
   ]
  },
  {
   "cell_type": "code",
   "execution_count": 26,
   "metadata": {},
   "outputs": [
    {
     "name": "stdout",
     "output_type": "stream",
     "text": [
      "This the description function of class AUDI.\n",
      "This the description function of class BMW.\n"
     ]
    }
   ],
   "source": [
    "class Audi:\n",
    "    def description(self):\n",
    "        print(\"This the description function of class AUDI.\")\n",
    "\n",
    "class BMW:\n",
    "    def description(self):\n",
    "        print(\"This the description function of class BMW.\")\n",
    "        \n",
    "a=Audi()\n",
    "b=BMW()\n",
    "for car in (a,b):\n",
    "    car.description()"
   ]
  },
  {
   "cell_type": "markdown",
   "metadata": {},
   "source": [
    "### Data Abstration\n",
    "- hiding the internal details/variable  or implementation of functions and showing their functionalities only\n",
    "- Ex:turning on/off the light without knowing its background mechanism\n",
    "\n",
    "- A class with atleast one **abstract method** called as an abstract class\n",
    "    - Ex: from abc import ABC\n",
    "        - class abs_cls(ABC):\n",
    "            - body\n",
    "    - from numpy import random\n",
    "- should not create objects for abstract classes\n",
    "- we can use abstract class by using inheritance only"
   ]
  },
  {
   "cell_type": "code",
   "execution_count": 33,
   "metadata": {},
   "outputs": [
    {
     "ename": "TypeError",
     "evalue": "Can't instantiate abstract class Car with abstract methods price",
     "output_type": "error",
     "traceback": [
      "\u001b[1;31m---------------------------------------------------------------------------\u001b[0m",
      "\u001b[1;31mTypeError\u001b[0m                                 Traceback (most recent call last)",
      "\u001b[1;32m<ipython-input-33-76807520dc15>\u001b[0m in \u001b[0;36m<module>\u001b[1;34m\u001b[0m\n\u001b[0;32m      9\u001b[0m         \u001b[1;32mpass\u001b[0m\u001b[1;33m\u001b[0m\u001b[1;33m\u001b[0m\u001b[0m\n\u001b[0;32m     10\u001b[0m \u001b[1;33m\u001b[0m\u001b[0m\n\u001b[1;32m---> 11\u001b[1;33m \u001b[0mobj\u001b[0m \u001b[1;33m=\u001b[0m \u001b[0mCar\u001b[0m\u001b[1;33m(\u001b[0m\u001b[1;34m\"Honda City\"\u001b[0m\u001b[1;33m)\u001b[0m\u001b[1;33m\u001b[0m\u001b[1;33m\u001b[0m\u001b[0m\n\u001b[0m",
      "\u001b[1;31mTypeError\u001b[0m: Can't instantiate abstract class Car with abstract methods price"
     ]
    }
   ],
   "source": [
    "from abc import ABC, abstractmethod\n",
    "\n",
    "class Car(ABC):\n",
    "    def __init__(self,name):\n",
    "        self.name = name \n",
    "        \n",
    "    @abstractmethod\n",
    "    def price(self,x):\n",
    "        pass\n",
    "\n",
    "obj = Car(\"Honda City\")"
   ]
  },
  {
   "cell_type": "code",
   "execution_count": 28,
   "metadata": {},
   "outputs": [
    {
     "name": "stdout",
     "output_type": "stream",
     "text": [
      "This the description function of class car.\n",
      "The Honda City's price is 25 lakhs.\n"
     ]
    }
   ],
   "source": [
    "from abc import ABC, abstractmethod\n",
    "\n",
    "class Car(ABC):\n",
    "    def __init__(self,name):\n",
    "        self.name = name\n",
    "\n",
    "    def description(self):\n",
    "        print(\"This the description function of class car.\")\n",
    "\n",
    "    @abstractmethod\n",
    "    def price(self,x):\n",
    "        pass\n",
    "    \n",
    "class new_car(Car):\n",
    "    def price(self,x):\n",
    "        print(f\"The {self.name}'s price is {x} lakhs.\")\n",
    "\n",
    "car = new_car(\"Honda City\")\n",
    "car.description()\n",
    "car.price(25)"
   ]
  },
  {
   "cell_type": "code",
   "execution_count": null,
   "metadata": {},
   "outputs": [],
   "source": []
  }
 ],
 "metadata": {
  "kernelspec": {
   "display_name": "Python 3",
   "language": "python",
   "name": "python3"
  },
  "language_info": {
   "codemirror_mode": {
    "name": "ipython",
    "version": 3
   },
   "file_extension": ".py",
   "mimetype": "text/x-python",
   "name": "python",
   "nbconvert_exporter": "python",
   "pygments_lexer": "ipython3",
   "version": "3.7.4"
  }
 },
 "nbformat": 4,
 "nbformat_minor": 2
}
